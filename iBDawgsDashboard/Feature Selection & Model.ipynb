{
 "cells": [
  {
   "cell_type": "code",
   "execution_count": 2,
   "id": "620ecb88",
   "metadata": {},
   "outputs": [],
   "source": [
    "import pandas as pd\n",
    "import numpy as np\n",
    "import statsmodels.formula.api as smf\n",
    "import seaborn as sns\n",
    "import matplotlib.pyplot as plt\n",
    "\n",
    "pd.options.display.max_rows = 999\n",
    "pd.options.display.max_columns = 999"
   ]
  },
  {
   "cell_type": "code",
   "execution_count": 3,
   "id": "a1711322",
   "metadata": {},
   "outputs": [],
   "source": [
    "#load data and ensure it's good\n",
    "df = pd.read_csv(\"./Friday-WorkingHours-Afternoon-DDos.pcap_ISCX.csv\")\n",
    "\n",
    "df.columns = df.columns.str.lstrip()\n",
    "df.columns = df.columns.str.replace(' ', '_')\n",
    "df.columns = df.columns.str.replace('/s', '_s')\n",
    "df.columns = df.columns.str.replace('Fwd_Header_Length.1', 'Fwd_Header_Length1')\n",
    "df.replace([np.inf, -np.inf], np.nan, inplace=True)\n",
    "df=df.fillna(0)\n",
    "df[\"Target\"] = np.where(df[\"Label\"] == \"BENIGN\", 0, 1)"
   ]
  },
  {
   "cell_type": "code",
   "execution_count": 4,
   "id": "aa072e86",
   "metadata": {},
   "outputs": [
    {
     "data": {
      "text/html": [
       "<div>\n",
       "<style scoped>\n",
       "    .dataframe tbody tr th:only-of-type {\n",
       "        vertical-align: middle;\n",
       "    }\n",
       "\n",
       "    .dataframe tbody tr th {\n",
       "        vertical-align: top;\n",
       "    }\n",
       "\n",
       "    .dataframe thead th {\n",
       "        text-align: right;\n",
       "    }\n",
       "</style>\n",
       "<table border=\"1\" class=\"dataframe\">\n",
       "  <thead>\n",
       "    <tr style=\"text-align: right;\">\n",
       "      <th></th>\n",
       "      <th>Destination_Port</th>\n",
       "      <th>Flow_Duration</th>\n",
       "      <th>Total_Fwd_Packets</th>\n",
       "      <th>Total_Backward_Packets</th>\n",
       "      <th>Total_Length_of_Fwd_Packets</th>\n",
       "      <th>Total_Length_of_Bwd_Packets</th>\n",
       "      <th>Fwd_Packet_Length_Max</th>\n",
       "      <th>Fwd_Packet_Length_Min</th>\n",
       "      <th>Fwd_Packet_Length_Mean</th>\n",
       "      <th>Fwd_Packet_Length_Std</th>\n",
       "      <th>Bwd_Packet_Length_Max</th>\n",
       "      <th>Bwd_Packet_Length_Min</th>\n",
       "      <th>Bwd_Packet_Length_Mean</th>\n",
       "      <th>Bwd_Packet_Length_Std</th>\n",
       "      <th>Flow_Bytes_s</th>\n",
       "      <th>Flow_Packets_s</th>\n",
       "      <th>Flow_IAT_Mean</th>\n",
       "      <th>Flow_IAT_Std</th>\n",
       "      <th>Flow_IAT_Max</th>\n",
       "      <th>Flow_IAT_Min</th>\n",
       "      <th>Fwd_IAT_Total</th>\n",
       "      <th>Fwd_IAT_Mean</th>\n",
       "      <th>Fwd_IAT_Std</th>\n",
       "      <th>Fwd_IAT_Max</th>\n",
       "      <th>Fwd_IAT_Min</th>\n",
       "      <th>Bwd_IAT_Total</th>\n",
       "      <th>Bwd_IAT_Mean</th>\n",
       "      <th>Bwd_IAT_Std</th>\n",
       "      <th>Bwd_IAT_Max</th>\n",
       "      <th>Bwd_IAT_Min</th>\n",
       "      <th>Fwd_PSH_Flags</th>\n",
       "      <th>Bwd_PSH_Flags</th>\n",
       "      <th>Fwd_URG_Flags</th>\n",
       "      <th>Bwd_URG_Flags</th>\n",
       "      <th>Fwd_Header_Length</th>\n",
       "      <th>Bwd_Header_Length</th>\n",
       "      <th>Fwd_Packets_s</th>\n",
       "      <th>Bwd_Packets_s</th>\n",
       "      <th>Min_Packet_Length</th>\n",
       "      <th>Max_Packet_Length</th>\n",
       "      <th>Packet_Length_Mean</th>\n",
       "      <th>Packet_Length_Std</th>\n",
       "      <th>Packet_Length_Variance</th>\n",
       "      <th>FIN_Flag_Count</th>\n",
       "      <th>SYN_Flag_Count</th>\n",
       "      <th>RST_Flag_Count</th>\n",
       "      <th>PSH_Flag_Count</th>\n",
       "      <th>ACK_Flag_Count</th>\n",
       "      <th>URG_Flag_Count</th>\n",
       "      <th>CWE_Flag_Count</th>\n",
       "      <th>ECE_Flag_Count</th>\n",
       "      <th>Down/Up_Ratio</th>\n",
       "      <th>Average_Packet_Size</th>\n",
       "      <th>Avg_Fwd_Segment_Size</th>\n",
       "      <th>Avg_Bwd_Segment_Size</th>\n",
       "      <th>Fwd_Header_Length1</th>\n",
       "      <th>Fwd_Avg_Bytes/Bulk</th>\n",
       "      <th>Fwd_Avg_Packets/Bulk</th>\n",
       "      <th>Fwd_Avg_Bulk_Rate</th>\n",
       "      <th>Bwd_Avg_Bytes/Bulk</th>\n",
       "      <th>Bwd_Avg_Packets/Bulk</th>\n",
       "      <th>Bwd_Avg_Bulk_Rate</th>\n",
       "      <th>Subflow_Fwd_Packets</th>\n",
       "      <th>Subflow_Fwd_Bytes</th>\n",
       "      <th>Subflow_Bwd_Packets</th>\n",
       "      <th>Subflow_Bwd_Bytes</th>\n",
       "      <th>Init_Win_bytes_forward</th>\n",
       "      <th>Init_Win_bytes_backward</th>\n",
       "      <th>act_data_pkt_fwd</th>\n",
       "      <th>min_seg_size_forward</th>\n",
       "      <th>Active_Mean</th>\n",
       "      <th>Active_Std</th>\n",
       "      <th>Active_Max</th>\n",
       "      <th>Active_Min</th>\n",
       "      <th>Idle_Mean</th>\n",
       "      <th>Idle_Std</th>\n",
       "      <th>Idle_Max</th>\n",
       "      <th>Idle_Min</th>\n",
       "      <th>Label</th>\n",
       "      <th>Target</th>\n",
       "    </tr>\n",
       "  </thead>\n",
       "  <tbody>\n",
       "    <tr>\n",
       "      <th>0</th>\n",
       "      <td>54865</td>\n",
       "      <td>3</td>\n",
       "      <td>2</td>\n",
       "      <td>0</td>\n",
       "      <td>12</td>\n",
       "      <td>0</td>\n",
       "      <td>6</td>\n",
       "      <td>6</td>\n",
       "      <td>6.0</td>\n",
       "      <td>0.0</td>\n",
       "      <td>0</td>\n",
       "      <td>0</td>\n",
       "      <td>0.0</td>\n",
       "      <td>0.0</td>\n",
       "      <td>4.000000e+06</td>\n",
       "      <td>666666.66670</td>\n",
       "      <td>3.0</td>\n",
       "      <td>0.0</td>\n",
       "      <td>3</td>\n",
       "      <td>3</td>\n",
       "      <td>3</td>\n",
       "      <td>3.0</td>\n",
       "      <td>0.0</td>\n",
       "      <td>3</td>\n",
       "      <td>3</td>\n",
       "      <td>0</td>\n",
       "      <td>0.0</td>\n",
       "      <td>0.0</td>\n",
       "      <td>0</td>\n",
       "      <td>0</td>\n",
       "      <td>0</td>\n",
       "      <td>0</td>\n",
       "      <td>0</td>\n",
       "      <td>0</td>\n",
       "      <td>40</td>\n",
       "      <td>0</td>\n",
       "      <td>666666.666700</td>\n",
       "      <td>0.000000</td>\n",
       "      <td>6</td>\n",
       "      <td>6</td>\n",
       "      <td>6.0</td>\n",
       "      <td>0.0</td>\n",
       "      <td>0.0</td>\n",
       "      <td>0</td>\n",
       "      <td>0</td>\n",
       "      <td>0</td>\n",
       "      <td>0</td>\n",
       "      <td>1</td>\n",
       "      <td>0</td>\n",
       "      <td>0</td>\n",
       "      <td>0</td>\n",
       "      <td>0</td>\n",
       "      <td>9.0</td>\n",
       "      <td>6.0</td>\n",
       "      <td>0.0</td>\n",
       "      <td>40</td>\n",
       "      <td>0</td>\n",
       "      <td>0</td>\n",
       "      <td>0</td>\n",
       "      <td>0</td>\n",
       "      <td>0</td>\n",
       "      <td>0</td>\n",
       "      <td>2</td>\n",
       "      <td>12</td>\n",
       "      <td>0</td>\n",
       "      <td>0</td>\n",
       "      <td>33</td>\n",
       "      <td>-1</td>\n",
       "      <td>1</td>\n",
       "      <td>20</td>\n",
       "      <td>0.0</td>\n",
       "      <td>0.0</td>\n",
       "      <td>0</td>\n",
       "      <td>0</td>\n",
       "      <td>0.0</td>\n",
       "      <td>0.0</td>\n",
       "      <td>0</td>\n",
       "      <td>0</td>\n",
       "      <td>BENIGN</td>\n",
       "      <td>0</td>\n",
       "    </tr>\n",
       "    <tr>\n",
       "      <th>1</th>\n",
       "      <td>55054</td>\n",
       "      <td>109</td>\n",
       "      <td>1</td>\n",
       "      <td>1</td>\n",
       "      <td>6</td>\n",
       "      <td>6</td>\n",
       "      <td>6</td>\n",
       "      <td>6</td>\n",
       "      <td>6.0</td>\n",
       "      <td>0.0</td>\n",
       "      <td>6</td>\n",
       "      <td>6</td>\n",
       "      <td>6.0</td>\n",
       "      <td>0.0</td>\n",
       "      <td>1.100917e+05</td>\n",
       "      <td>18348.62385</td>\n",
       "      <td>109.0</td>\n",
       "      <td>0.0</td>\n",
       "      <td>109</td>\n",
       "      <td>109</td>\n",
       "      <td>0</td>\n",
       "      <td>0.0</td>\n",
       "      <td>0.0</td>\n",
       "      <td>0</td>\n",
       "      <td>0</td>\n",
       "      <td>0</td>\n",
       "      <td>0.0</td>\n",
       "      <td>0.0</td>\n",
       "      <td>0</td>\n",
       "      <td>0</td>\n",
       "      <td>0</td>\n",
       "      <td>0</td>\n",
       "      <td>0</td>\n",
       "      <td>0</td>\n",
       "      <td>20</td>\n",
       "      <td>20</td>\n",
       "      <td>9174.311927</td>\n",
       "      <td>9174.311927</td>\n",
       "      <td>6</td>\n",
       "      <td>6</td>\n",
       "      <td>6.0</td>\n",
       "      <td>0.0</td>\n",
       "      <td>0.0</td>\n",
       "      <td>0</td>\n",
       "      <td>0</td>\n",
       "      <td>0</td>\n",
       "      <td>0</td>\n",
       "      <td>1</td>\n",
       "      <td>1</td>\n",
       "      <td>0</td>\n",
       "      <td>0</td>\n",
       "      <td>1</td>\n",
       "      <td>9.0</td>\n",
       "      <td>6.0</td>\n",
       "      <td>6.0</td>\n",
       "      <td>20</td>\n",
       "      <td>0</td>\n",
       "      <td>0</td>\n",
       "      <td>0</td>\n",
       "      <td>0</td>\n",
       "      <td>0</td>\n",
       "      <td>0</td>\n",
       "      <td>1</td>\n",
       "      <td>6</td>\n",
       "      <td>1</td>\n",
       "      <td>6</td>\n",
       "      <td>29</td>\n",
       "      <td>256</td>\n",
       "      <td>0</td>\n",
       "      <td>20</td>\n",
       "      <td>0.0</td>\n",
       "      <td>0.0</td>\n",
       "      <td>0</td>\n",
       "      <td>0</td>\n",
       "      <td>0.0</td>\n",
       "      <td>0.0</td>\n",
       "      <td>0</td>\n",
       "      <td>0</td>\n",
       "      <td>BENIGN</td>\n",
       "      <td>0</td>\n",
       "    </tr>\n",
       "    <tr>\n",
       "      <th>2</th>\n",
       "      <td>55055</td>\n",
       "      <td>52</td>\n",
       "      <td>1</td>\n",
       "      <td>1</td>\n",
       "      <td>6</td>\n",
       "      <td>6</td>\n",
       "      <td>6</td>\n",
       "      <td>6</td>\n",
       "      <td>6.0</td>\n",
       "      <td>0.0</td>\n",
       "      <td>6</td>\n",
       "      <td>6</td>\n",
       "      <td>6.0</td>\n",
       "      <td>0.0</td>\n",
       "      <td>2.307692e+05</td>\n",
       "      <td>38461.53846</td>\n",
       "      <td>52.0</td>\n",
       "      <td>0.0</td>\n",
       "      <td>52</td>\n",
       "      <td>52</td>\n",
       "      <td>0</td>\n",
       "      <td>0.0</td>\n",
       "      <td>0.0</td>\n",
       "      <td>0</td>\n",
       "      <td>0</td>\n",
       "      <td>0</td>\n",
       "      <td>0.0</td>\n",
       "      <td>0.0</td>\n",
       "      <td>0</td>\n",
       "      <td>0</td>\n",
       "      <td>0</td>\n",
       "      <td>0</td>\n",
       "      <td>0</td>\n",
       "      <td>0</td>\n",
       "      <td>20</td>\n",
       "      <td>20</td>\n",
       "      <td>19230.769230</td>\n",
       "      <td>19230.769230</td>\n",
       "      <td>6</td>\n",
       "      <td>6</td>\n",
       "      <td>6.0</td>\n",
       "      <td>0.0</td>\n",
       "      <td>0.0</td>\n",
       "      <td>0</td>\n",
       "      <td>0</td>\n",
       "      <td>0</td>\n",
       "      <td>0</td>\n",
       "      <td>1</td>\n",
       "      <td>1</td>\n",
       "      <td>0</td>\n",
       "      <td>0</td>\n",
       "      <td>1</td>\n",
       "      <td>9.0</td>\n",
       "      <td>6.0</td>\n",
       "      <td>6.0</td>\n",
       "      <td>20</td>\n",
       "      <td>0</td>\n",
       "      <td>0</td>\n",
       "      <td>0</td>\n",
       "      <td>0</td>\n",
       "      <td>0</td>\n",
       "      <td>0</td>\n",
       "      <td>1</td>\n",
       "      <td>6</td>\n",
       "      <td>1</td>\n",
       "      <td>6</td>\n",
       "      <td>29</td>\n",
       "      <td>256</td>\n",
       "      <td>0</td>\n",
       "      <td>20</td>\n",
       "      <td>0.0</td>\n",
       "      <td>0.0</td>\n",
       "      <td>0</td>\n",
       "      <td>0</td>\n",
       "      <td>0.0</td>\n",
       "      <td>0.0</td>\n",
       "      <td>0</td>\n",
       "      <td>0</td>\n",
       "      <td>BENIGN</td>\n",
       "      <td>0</td>\n",
       "    </tr>\n",
       "    <tr>\n",
       "      <th>3</th>\n",
       "      <td>46236</td>\n",
       "      <td>34</td>\n",
       "      <td>1</td>\n",
       "      <td>1</td>\n",
       "      <td>6</td>\n",
       "      <td>6</td>\n",
       "      <td>6</td>\n",
       "      <td>6</td>\n",
       "      <td>6.0</td>\n",
       "      <td>0.0</td>\n",
       "      <td>6</td>\n",
       "      <td>6</td>\n",
       "      <td>6.0</td>\n",
       "      <td>0.0</td>\n",
       "      <td>3.529412e+05</td>\n",
       "      <td>58823.52941</td>\n",
       "      <td>34.0</td>\n",
       "      <td>0.0</td>\n",
       "      <td>34</td>\n",
       "      <td>34</td>\n",
       "      <td>0</td>\n",
       "      <td>0.0</td>\n",
       "      <td>0.0</td>\n",
       "      <td>0</td>\n",
       "      <td>0</td>\n",
       "      <td>0</td>\n",
       "      <td>0.0</td>\n",
       "      <td>0.0</td>\n",
       "      <td>0</td>\n",
       "      <td>0</td>\n",
       "      <td>0</td>\n",
       "      <td>0</td>\n",
       "      <td>0</td>\n",
       "      <td>0</td>\n",
       "      <td>20</td>\n",
       "      <td>20</td>\n",
       "      <td>29411.764710</td>\n",
       "      <td>29411.764710</td>\n",
       "      <td>6</td>\n",
       "      <td>6</td>\n",
       "      <td>6.0</td>\n",
       "      <td>0.0</td>\n",
       "      <td>0.0</td>\n",
       "      <td>0</td>\n",
       "      <td>0</td>\n",
       "      <td>0</td>\n",
       "      <td>0</td>\n",
       "      <td>1</td>\n",
       "      <td>1</td>\n",
       "      <td>0</td>\n",
       "      <td>0</td>\n",
       "      <td>1</td>\n",
       "      <td>9.0</td>\n",
       "      <td>6.0</td>\n",
       "      <td>6.0</td>\n",
       "      <td>20</td>\n",
       "      <td>0</td>\n",
       "      <td>0</td>\n",
       "      <td>0</td>\n",
       "      <td>0</td>\n",
       "      <td>0</td>\n",
       "      <td>0</td>\n",
       "      <td>1</td>\n",
       "      <td>6</td>\n",
       "      <td>1</td>\n",
       "      <td>6</td>\n",
       "      <td>31</td>\n",
       "      <td>329</td>\n",
       "      <td>0</td>\n",
       "      <td>20</td>\n",
       "      <td>0.0</td>\n",
       "      <td>0.0</td>\n",
       "      <td>0</td>\n",
       "      <td>0</td>\n",
       "      <td>0.0</td>\n",
       "      <td>0.0</td>\n",
       "      <td>0</td>\n",
       "      <td>0</td>\n",
       "      <td>BENIGN</td>\n",
       "      <td>0</td>\n",
       "    </tr>\n",
       "    <tr>\n",
       "      <th>4</th>\n",
       "      <td>54863</td>\n",
       "      <td>3</td>\n",
       "      <td>2</td>\n",
       "      <td>0</td>\n",
       "      <td>12</td>\n",
       "      <td>0</td>\n",
       "      <td>6</td>\n",
       "      <td>6</td>\n",
       "      <td>6.0</td>\n",
       "      <td>0.0</td>\n",
       "      <td>0</td>\n",
       "      <td>0</td>\n",
       "      <td>0.0</td>\n",
       "      <td>0.0</td>\n",
       "      <td>4.000000e+06</td>\n",
       "      <td>666666.66670</td>\n",
       "      <td>3.0</td>\n",
       "      <td>0.0</td>\n",
       "      <td>3</td>\n",
       "      <td>3</td>\n",
       "      <td>3</td>\n",
       "      <td>3.0</td>\n",
       "      <td>0.0</td>\n",
       "      <td>3</td>\n",
       "      <td>3</td>\n",
       "      <td>0</td>\n",
       "      <td>0.0</td>\n",
       "      <td>0.0</td>\n",
       "      <td>0</td>\n",
       "      <td>0</td>\n",
       "      <td>0</td>\n",
       "      <td>0</td>\n",
       "      <td>0</td>\n",
       "      <td>0</td>\n",
       "      <td>40</td>\n",
       "      <td>0</td>\n",
       "      <td>666666.666700</td>\n",
       "      <td>0.000000</td>\n",
       "      <td>6</td>\n",
       "      <td>6</td>\n",
       "      <td>6.0</td>\n",
       "      <td>0.0</td>\n",
       "      <td>0.0</td>\n",
       "      <td>0</td>\n",
       "      <td>0</td>\n",
       "      <td>0</td>\n",
       "      <td>0</td>\n",
       "      <td>1</td>\n",
       "      <td>0</td>\n",
       "      <td>0</td>\n",
       "      <td>0</td>\n",
       "      <td>0</td>\n",
       "      <td>9.0</td>\n",
       "      <td>6.0</td>\n",
       "      <td>0.0</td>\n",
       "      <td>40</td>\n",
       "      <td>0</td>\n",
       "      <td>0</td>\n",
       "      <td>0</td>\n",
       "      <td>0</td>\n",
       "      <td>0</td>\n",
       "      <td>0</td>\n",
       "      <td>2</td>\n",
       "      <td>12</td>\n",
       "      <td>0</td>\n",
       "      <td>0</td>\n",
       "      <td>32</td>\n",
       "      <td>-1</td>\n",
       "      <td>1</td>\n",
       "      <td>20</td>\n",
       "      <td>0.0</td>\n",
       "      <td>0.0</td>\n",
       "      <td>0</td>\n",
       "      <td>0</td>\n",
       "      <td>0.0</td>\n",
       "      <td>0.0</td>\n",
       "      <td>0</td>\n",
       "      <td>0</td>\n",
       "      <td>BENIGN</td>\n",
       "      <td>0</td>\n",
       "    </tr>\n",
       "  </tbody>\n",
       "</table>\n",
       "</div>"
      ],
      "text/plain": [
       "   Destination_Port  Flow_Duration  Total_Fwd_Packets  Total_Backward_Packets   \n",
       "0             54865              3                  2                       0  \\\n",
       "1             55054            109                  1                       1   \n",
       "2             55055             52                  1                       1   \n",
       "3             46236             34                  1                       1   \n",
       "4             54863              3                  2                       0   \n",
       "\n",
       "   Total_Length_of_Fwd_Packets  Total_Length_of_Bwd_Packets   \n",
       "0                           12                            0  \\\n",
       "1                            6                            6   \n",
       "2                            6                            6   \n",
       "3                            6                            6   \n",
       "4                           12                            0   \n",
       "\n",
       "   Fwd_Packet_Length_Max  Fwd_Packet_Length_Min  Fwd_Packet_Length_Mean   \n",
       "0                      6                      6                     6.0  \\\n",
       "1                      6                      6                     6.0   \n",
       "2                      6                      6                     6.0   \n",
       "3                      6                      6                     6.0   \n",
       "4                      6                      6                     6.0   \n",
       "\n",
       "   Fwd_Packet_Length_Std  Bwd_Packet_Length_Max  Bwd_Packet_Length_Min   \n",
       "0                    0.0                      0                      0  \\\n",
       "1                    0.0                      6                      6   \n",
       "2                    0.0                      6                      6   \n",
       "3                    0.0                      6                      6   \n",
       "4                    0.0                      0                      0   \n",
       "\n",
       "   Bwd_Packet_Length_Mean  Bwd_Packet_Length_Std  Flow_Bytes_s   \n",
       "0                     0.0                    0.0  4.000000e+06  \\\n",
       "1                     6.0                    0.0  1.100917e+05   \n",
       "2                     6.0                    0.0  2.307692e+05   \n",
       "3                     6.0                    0.0  3.529412e+05   \n",
       "4                     0.0                    0.0  4.000000e+06   \n",
       "\n",
       "   Flow_Packets_s  Flow_IAT_Mean  Flow_IAT_Std  Flow_IAT_Max  Flow_IAT_Min   \n",
       "0    666666.66670            3.0           0.0             3             3  \\\n",
       "1     18348.62385          109.0           0.0           109           109   \n",
       "2     38461.53846           52.0           0.0            52            52   \n",
       "3     58823.52941           34.0           0.0            34            34   \n",
       "4    666666.66670            3.0           0.0             3             3   \n",
       "\n",
       "   Fwd_IAT_Total  Fwd_IAT_Mean  Fwd_IAT_Std  Fwd_IAT_Max  Fwd_IAT_Min   \n",
       "0              3           3.0          0.0            3            3  \\\n",
       "1              0           0.0          0.0            0            0   \n",
       "2              0           0.0          0.0            0            0   \n",
       "3              0           0.0          0.0            0            0   \n",
       "4              3           3.0          0.0            3            3   \n",
       "\n",
       "   Bwd_IAT_Total  Bwd_IAT_Mean  Bwd_IAT_Std  Bwd_IAT_Max  Bwd_IAT_Min   \n",
       "0              0           0.0          0.0            0            0  \\\n",
       "1              0           0.0          0.0            0            0   \n",
       "2              0           0.0          0.0            0            0   \n",
       "3              0           0.0          0.0            0            0   \n",
       "4              0           0.0          0.0            0            0   \n",
       "\n",
       "   Fwd_PSH_Flags  Bwd_PSH_Flags  Fwd_URG_Flags  Bwd_URG_Flags   \n",
       "0              0              0              0              0  \\\n",
       "1              0              0              0              0   \n",
       "2              0              0              0              0   \n",
       "3              0              0              0              0   \n",
       "4              0              0              0              0   \n",
       "\n",
       "   Fwd_Header_Length  Bwd_Header_Length  Fwd_Packets_s  Bwd_Packets_s   \n",
       "0                 40                  0  666666.666700       0.000000  \\\n",
       "1                 20                 20    9174.311927    9174.311927   \n",
       "2                 20                 20   19230.769230   19230.769230   \n",
       "3                 20                 20   29411.764710   29411.764710   \n",
       "4                 40                  0  666666.666700       0.000000   \n",
       "\n",
       "   Min_Packet_Length  Max_Packet_Length  Packet_Length_Mean   \n",
       "0                  6                  6                 6.0  \\\n",
       "1                  6                  6                 6.0   \n",
       "2                  6                  6                 6.0   \n",
       "3                  6                  6                 6.0   \n",
       "4                  6                  6                 6.0   \n",
       "\n",
       "   Packet_Length_Std  Packet_Length_Variance  FIN_Flag_Count  SYN_Flag_Count   \n",
       "0                0.0                     0.0               0               0  \\\n",
       "1                0.0                     0.0               0               0   \n",
       "2                0.0                     0.0               0               0   \n",
       "3                0.0                     0.0               0               0   \n",
       "4                0.0                     0.0               0               0   \n",
       "\n",
       "   RST_Flag_Count  PSH_Flag_Count  ACK_Flag_Count  URG_Flag_Count   \n",
       "0               0               0               1               0  \\\n",
       "1               0               0               1               1   \n",
       "2               0               0               1               1   \n",
       "3               0               0               1               1   \n",
       "4               0               0               1               0   \n",
       "\n",
       "   CWE_Flag_Count  ECE_Flag_Count  Down/Up_Ratio  Average_Packet_Size   \n",
       "0               0               0              0                  9.0  \\\n",
       "1               0               0              1                  9.0   \n",
       "2               0               0              1                  9.0   \n",
       "3               0               0              1                  9.0   \n",
       "4               0               0              0                  9.0   \n",
       "\n",
       "   Avg_Fwd_Segment_Size  Avg_Bwd_Segment_Size  Fwd_Header_Length1   \n",
       "0                   6.0                   0.0                  40  \\\n",
       "1                   6.0                   6.0                  20   \n",
       "2                   6.0                   6.0                  20   \n",
       "3                   6.0                   6.0                  20   \n",
       "4                   6.0                   0.0                  40   \n",
       "\n",
       "   Fwd_Avg_Bytes/Bulk  Fwd_Avg_Packets/Bulk  Fwd_Avg_Bulk_Rate   \n",
       "0                   0                     0                  0  \\\n",
       "1                   0                     0                  0   \n",
       "2                   0                     0                  0   \n",
       "3                   0                     0                  0   \n",
       "4                   0                     0                  0   \n",
       "\n",
       "   Bwd_Avg_Bytes/Bulk  Bwd_Avg_Packets/Bulk  Bwd_Avg_Bulk_Rate   \n",
       "0                   0                     0                  0  \\\n",
       "1                   0                     0                  0   \n",
       "2                   0                     0                  0   \n",
       "3                   0                     0                  0   \n",
       "4                   0                     0                  0   \n",
       "\n",
       "   Subflow_Fwd_Packets  Subflow_Fwd_Bytes  Subflow_Bwd_Packets   \n",
       "0                    2                 12                    0  \\\n",
       "1                    1                  6                    1   \n",
       "2                    1                  6                    1   \n",
       "3                    1                  6                    1   \n",
       "4                    2                 12                    0   \n",
       "\n",
       "   Subflow_Bwd_Bytes  Init_Win_bytes_forward  Init_Win_bytes_backward   \n",
       "0                  0                      33                       -1  \\\n",
       "1                  6                      29                      256   \n",
       "2                  6                      29                      256   \n",
       "3                  6                      31                      329   \n",
       "4                  0                      32                       -1   \n",
       "\n",
       "   act_data_pkt_fwd  min_seg_size_forward  Active_Mean  Active_Std   \n",
       "0                 1                    20          0.0         0.0  \\\n",
       "1                 0                    20          0.0         0.0   \n",
       "2                 0                    20          0.0         0.0   \n",
       "3                 0                    20          0.0         0.0   \n",
       "4                 1                    20          0.0         0.0   \n",
       "\n",
       "   Active_Max  Active_Min  Idle_Mean  Idle_Std  Idle_Max  Idle_Min   Label   \n",
       "0           0           0        0.0       0.0         0         0  BENIGN  \\\n",
       "1           0           0        0.0       0.0         0         0  BENIGN   \n",
       "2           0           0        0.0       0.0         0         0  BENIGN   \n",
       "3           0           0        0.0       0.0         0         0  BENIGN   \n",
       "4           0           0        0.0       0.0         0         0  BENIGN   \n",
       "\n",
       "   Target  \n",
       "0       0  \n",
       "1       0  \n",
       "2       0  \n",
       "3       0  \n",
       "4       0  "
      ]
     },
     "execution_count": 4,
     "metadata": {},
     "output_type": "execute_result"
    }
   ],
   "source": [
    "df.head()"
   ]
  },
  {
   "cell_type": "code",
   "execution_count": 5,
   "id": "aaeec5d4",
   "metadata": {
    "scrolled": true
   },
   "outputs": [
    {
     "name": "stdout",
     "output_type": "stream",
     "text": [
      "(225745, 80)\n",
      "Destination_Port               0\n",
      "Flow_Duration                  0\n",
      "Total_Fwd_Packets              0\n",
      "Total_Backward_Packets         0\n",
      "Total_Length_of_Fwd_Packets    0\n",
      "Total_Length_of_Bwd_Packets    0\n",
      "Fwd_Packet_Length_Max          0\n",
      "Fwd_Packet_Length_Min          0\n",
      "Fwd_Packet_Length_Mean         0\n",
      "Fwd_Packet_Length_Std          0\n",
      "Bwd_Packet_Length_Max          0\n",
      "Bwd_Packet_Length_Min          0\n",
      "Bwd_Packet_Length_Mean         0\n",
      "Bwd_Packet_Length_Std          0\n",
      "Flow_Bytes_s                   0\n",
      "Flow_Packets_s                 0\n",
      "Flow_IAT_Mean                  0\n",
      "Flow_IAT_Std                   0\n",
      "Flow_IAT_Max                   0\n",
      "Flow_IAT_Min                   0\n",
      "Fwd_IAT_Total                  0\n",
      "Fwd_IAT_Mean                   0\n",
      "Fwd_IAT_Std                    0\n",
      "Fwd_IAT_Max                    0\n",
      "Fwd_IAT_Min                    0\n",
      "Bwd_IAT_Total                  0\n",
      "Bwd_IAT_Mean                   0\n",
      "Bwd_IAT_Std                    0\n",
      "Bwd_IAT_Max                    0\n",
      "Bwd_IAT_Min                    0\n",
      "Fwd_PSH_Flags                  0\n",
      "Bwd_PSH_Flags                  0\n",
      "Fwd_URG_Flags                  0\n",
      "Bwd_URG_Flags                  0\n",
      "Fwd_Header_Length              0\n",
      "Bwd_Header_Length              0\n",
      "Fwd_Packets_s                  0\n",
      "Bwd_Packets_s                  0\n",
      "Min_Packet_Length              0\n",
      "Max_Packet_Length              0\n",
      "Packet_Length_Mean             0\n",
      "Packet_Length_Std              0\n",
      "Packet_Length_Variance         0\n",
      "FIN_Flag_Count                 0\n",
      "SYN_Flag_Count                 0\n",
      "RST_Flag_Count                 0\n",
      "PSH_Flag_Count                 0\n",
      "ACK_Flag_Count                 0\n",
      "URG_Flag_Count                 0\n",
      "CWE_Flag_Count                 0\n",
      "ECE_Flag_Count                 0\n",
      "Down/Up_Ratio                  0\n",
      "Average_Packet_Size            0\n",
      "Avg_Fwd_Segment_Size           0\n",
      "Avg_Bwd_Segment_Size           0\n",
      "Fwd_Header_Length1             0\n",
      "Fwd_Avg_Bytes/Bulk             0\n",
      "Fwd_Avg_Packets/Bulk           0\n",
      "Fwd_Avg_Bulk_Rate              0\n",
      "Bwd_Avg_Bytes/Bulk             0\n",
      "Bwd_Avg_Packets/Bulk           0\n",
      "Bwd_Avg_Bulk_Rate              0\n",
      "Subflow_Fwd_Packets            0\n",
      "Subflow_Fwd_Bytes              0\n",
      "Subflow_Bwd_Packets            0\n",
      "Subflow_Bwd_Bytes              0\n",
      "Init_Win_bytes_forward         0\n",
      "Init_Win_bytes_backward        0\n",
      "act_data_pkt_fwd               0\n",
      "min_seg_size_forward           0\n",
      "Active_Mean                    0\n",
      "Active_Std                     0\n",
      "Active_Max                     0\n",
      "Active_Min                     0\n",
      "Idle_Mean                      0\n",
      "Idle_Std                       0\n",
      "Idle_Max                       0\n",
      "Idle_Min                       0\n",
      "Label                          0\n",
      "Target                         0\n",
      "dtype: int64\n",
      "\n",
      "Destination_Port               0\n",
      "Flow_Duration                  0\n",
      "Total_Fwd_Packets              0\n",
      "Total_Backward_Packets         0\n",
      "Total_Length_of_Fwd_Packets    0\n",
      "Total_Length_of_Bwd_Packets    0\n",
      "Fwd_Packet_Length_Max          0\n",
      "Fwd_Packet_Length_Min          0\n",
      "Fwd_Packet_Length_Mean         0\n",
      "Fwd_Packet_Length_Std          0\n",
      "Bwd_Packet_Length_Max          0\n",
      "Bwd_Packet_Length_Min          0\n",
      "Bwd_Packet_Length_Mean         0\n",
      "Bwd_Packet_Length_Std          0\n",
      "Flow_Bytes_s                   0\n",
      "Flow_Packets_s                 0\n",
      "Flow_IAT_Mean                  0\n",
      "Flow_IAT_Std                   0\n",
      "Flow_IAT_Max                   0\n",
      "Flow_IAT_Min                   0\n",
      "Fwd_IAT_Total                  0\n",
      "Fwd_IAT_Mean                   0\n",
      "Fwd_IAT_Std                    0\n",
      "Fwd_IAT_Max                    0\n",
      "Fwd_IAT_Min                    0\n",
      "Bwd_IAT_Total                  0\n",
      "Bwd_IAT_Mean                   0\n",
      "Bwd_IAT_Std                    0\n",
      "Bwd_IAT_Max                    0\n",
      "Bwd_IAT_Min                    0\n",
      "Fwd_PSH_Flags                  0\n",
      "Bwd_PSH_Flags                  0\n",
      "Fwd_URG_Flags                  0\n",
      "Bwd_URG_Flags                  0\n",
      "Fwd_Header_Length              0\n",
      "Bwd_Header_Length              0\n",
      "Fwd_Packets_s                  0\n",
      "Bwd_Packets_s                  0\n",
      "Min_Packet_Length              0\n",
      "Max_Packet_Length              0\n",
      "Packet_Length_Mean             0\n",
      "Packet_Length_Std              0\n",
      "Packet_Length_Variance         0\n",
      "FIN_Flag_Count                 0\n",
      "SYN_Flag_Count                 0\n",
      "RST_Flag_Count                 0\n",
      "PSH_Flag_Count                 0\n",
      "ACK_Flag_Count                 0\n",
      "URG_Flag_Count                 0\n",
      "CWE_Flag_Count                 0\n",
      "ECE_Flag_Count                 0\n",
      "Down/Up_Ratio                  0\n",
      "Average_Packet_Size            0\n",
      "Avg_Fwd_Segment_Size           0\n",
      "Avg_Bwd_Segment_Size           0\n",
      "Fwd_Header_Length1             0\n",
      "Fwd_Avg_Bytes/Bulk             0\n",
      "Fwd_Avg_Packets/Bulk           0\n",
      "Fwd_Avg_Bulk_Rate              0\n",
      "Bwd_Avg_Bytes/Bulk             0\n",
      "Bwd_Avg_Packets/Bulk           0\n",
      "Bwd_Avg_Bulk_Rate              0\n",
      "Subflow_Fwd_Packets            0\n",
      "Subflow_Fwd_Bytes              0\n",
      "Subflow_Bwd_Packets            0\n",
      "Subflow_Bwd_Bytes              0\n",
      "Init_Win_bytes_forward         0\n",
      "Init_Win_bytes_backward        0\n",
      "act_data_pkt_fwd               0\n",
      "min_seg_size_forward           0\n",
      "Active_Mean                    0\n",
      "Active_Std                     0\n",
      "Active_Max                     0\n",
      "Active_Min                     0\n",
      "Idle_Mean                      0\n",
      "Idle_Std                       0\n",
      "Idle_Max                       0\n",
      "Idle_Min                       0\n",
      "Label                          0\n",
      "Target                         0\n",
      "dtype: int64\n"
     ]
    }
   ],
   "source": [
    "print(df.shape)\n",
    "print(df.isna().sum())\n",
    "print()\n",
    "print(df.isin([np.inf, -np.inf]).sum())"
   ]
  },
  {
   "cell_type": "code",
   "execution_count": 6,
   "id": "987ebf34",
   "metadata": {},
   "outputs": [],
   "source": [
    "features = np.float32(df.loc[:, ~df.columns.isin(['Flow_ID', 'Source_IP', 'Destination_IP', 'Timestamp', 'Label', 'Target'])].copy().values) #reduce memory usage\n",
    "label = df.loc[:, df.columns.isin(['Target'])].copy().values.ravel()"
   ]
  },
  {
   "cell_type": "code",
   "execution_count": 7,
   "id": "d54905bf",
   "metadata": {},
   "outputs": [
    {
     "name": "stdout",
     "output_type": "stream",
     "text": [
      "Fwd_Packet_Length_Max: 0.08540890541602585\n",
      "Init_Win_bytes_forward: 0.07822741276620575\n",
      "Subflow_Fwd_Bytes: 0.07331976366751264\n",
      "Fwd_Packet_Length_Mean: 0.06881392168678165\n",
      "Subflow_Fwd_Packets: 0.056774166925017536\n",
      "Avg_Fwd_Segment_Size: 0.05488781857205268\n",
      "Destination_Port: 0.051909297009655034\n",
      "Bwd_Packet_Length_Min: 0.0495258279438441\n",
      "Total_Length_of_Fwd_Packets: 0.04791388369574302\n",
      "act_data_pkt_fwd: 0.04097751951760758\n"
     ]
    }
   ],
   "source": [
    "from sklearn.ensemble import RandomForestClassifier #use this when label is categorical\n",
    "\n",
    "# Train a random forest classifier on the dataset\n",
    "forest = RandomForestClassifier(n_estimators = 100, random_state=42)\n",
    "forest.fit(features, label)\n",
    "\n",
    "# Get the feature importances and sort them in descending order\n",
    "importances = forest.feature_importances_\n",
    "sorted_indices = importances.argsort()[::-1]\n",
    "feature_names = df.loc[:, ~df.columns.isin(['Flow_ID', 'Source_IP', 'Destination_IP', 'Timestamp', 'Label', 'Target'])].copy().columns\n",
    "\n",
    "# Print the top 10 features by importance\n",
    "top_features = 10\n",
    "for index in sorted_indices[:top_features]:\n",
    "    print(f\"{feature_names[index]}: {importances[index]}\")"
   ]
  },
  {
   "cell_type": "code",
   "execution_count": 8,
   "id": "ddb0c15d",
   "metadata": {},
   "outputs": [
    {
     "data": {
      "application/vnd.plotly.v1+json": {
       "config": {
        "plotlyServerURL": "https://plot.ly"
       },
       "data": [
        {
         "marker": {
          "color": [
           "#ff7f0e",
           "#1f77b4",
           "#2ca02c",
           "#d62728",
           "#9467bd",
           "#8c564b",
           "#e377c2",
           "#7f7f7f",
           "#bcbd22",
           "#17becf"
          ],
          "line": {
           "color": "#000000",
           "width": 1
          }
         },
         "orientation": "h",
         "type": "bar",
         "x": [
          0.04097751951760758,
          0.04791388369574302,
          0.0495258279438441,
          0.051909297009655034,
          0.05488781857205268,
          0.056774166925017536,
          0.06881392168678165,
          0.07331976366751264,
          0.07822741276620575,
          0.08540890541602585
         ],
         "y": [
          "act_data_pkt_fwd",
          "Total_Length_of_Fwd_Packets",
          "Bwd_Packet_Length_Min",
          "Destination_Port",
          "Avg_Fwd_Segment_Size",
          "Subflow_Fwd_Packets",
          "Fwd_Packet_Length_Mean",
          "Subflow_Fwd_Bytes",
          "Init_Win_bytes_forward",
          "Fwd_Packet_Length_Max"
         ]
        }
       ],
       "layout": {
        "annotations": [
         {
          "align": "center",
          "font": {
           "color": "white",
           "family": "Arial",
           "size": 12
          },
          "showarrow": false,
          "text": "0.041",
          "x": 0.04097751951760758,
          "xref": "x",
          "y": "act_data_pkt_fwd",
          "yref": "y"
         },
         {
          "align": "center",
          "font": {
           "color": "white",
           "family": "Arial",
           "size": 12
          },
          "showarrow": false,
          "text": "0.048",
          "x": 0.04791388369574302,
          "xref": "x",
          "y": "Total_Length_of_Fwd_Packets",
          "yref": "y"
         },
         {
          "align": "center",
          "font": {
           "color": "white",
           "family": "Arial",
           "size": 12
          },
          "showarrow": false,
          "text": "0.05",
          "x": 0.0495258279438441,
          "xref": "x",
          "y": "Bwd_Packet_Length_Min",
          "yref": "y"
         },
         {
          "align": "center",
          "font": {
           "color": "white",
           "family": "Arial",
           "size": 12
          },
          "showarrow": false,
          "text": "0.052",
          "x": 0.051909297009655034,
          "xref": "x",
          "y": "Destination_Port",
          "yref": "y"
         },
         {
          "align": "center",
          "font": {
           "color": "white",
           "family": "Arial",
           "size": 12
          },
          "showarrow": false,
          "text": "0.055",
          "x": 0.05488781857205268,
          "xref": "x",
          "y": "Avg_Fwd_Segment_Size",
          "yref": "y"
         },
         {
          "align": "center",
          "font": {
           "color": "white",
           "family": "Arial",
           "size": 12
          },
          "showarrow": false,
          "text": "0.057",
          "x": 0.056774166925017536,
          "xref": "x",
          "y": "Subflow_Fwd_Packets",
          "yref": "y"
         },
         {
          "align": "center",
          "font": {
           "color": "white",
           "family": "Arial",
           "size": 12
          },
          "showarrow": false,
          "text": "0.069",
          "x": 0.06881392168678165,
          "xref": "x",
          "y": "Fwd_Packet_Length_Mean",
          "yref": "y"
         },
         {
          "align": "center",
          "font": {
           "color": "white",
           "family": "Arial",
           "size": 12
          },
          "showarrow": false,
          "text": "0.073",
          "x": 0.07331976366751264,
          "xref": "x",
          "y": "Subflow_Fwd_Bytes",
          "yref": "y"
         },
         {
          "align": "center",
          "font": {
           "color": "white",
           "family": "Arial",
           "size": 12
          },
          "showarrow": false,
          "text": "0.078",
          "x": 0.07822741276620575,
          "xref": "x",
          "y": "Init_Win_bytes_forward",
          "yref": "y"
         },
         {
          "align": "center",
          "font": {
           "color": "white",
           "family": "Arial",
           "size": 12
          },
          "showarrow": false,
          "text": "0.085",
          "x": 0.08540890541602585,
          "xref": "x",
          "y": "Fwd_Packet_Length_Max",
          "yref": "y"
         }
        ],
        "margin": {
         "b": 100,
         "l": 150,
         "r": 50,
         "t": 100
        },
        "template": {
         "data": {
          "bar": [
           {
            "error_x": {
             "color": "#2a3f5f"
            },
            "error_y": {
             "color": "#2a3f5f"
            },
            "marker": {
             "line": {
              "color": "#E5ECF6",
              "width": 0.5
             },
             "pattern": {
              "fillmode": "overlay",
              "size": 10,
              "solidity": 0.2
             }
            },
            "type": "bar"
           }
          ],
          "barpolar": [
           {
            "marker": {
             "line": {
              "color": "#E5ECF6",
              "width": 0.5
             },
             "pattern": {
              "fillmode": "overlay",
              "size": 10,
              "solidity": 0.2
             }
            },
            "type": "barpolar"
           }
          ],
          "carpet": [
           {
            "aaxis": {
             "endlinecolor": "#2a3f5f",
             "gridcolor": "white",
             "linecolor": "white",
             "minorgridcolor": "white",
             "startlinecolor": "#2a3f5f"
            },
            "baxis": {
             "endlinecolor": "#2a3f5f",
             "gridcolor": "white",
             "linecolor": "white",
             "minorgridcolor": "white",
             "startlinecolor": "#2a3f5f"
            },
            "type": "carpet"
           }
          ],
          "choropleth": [
           {
            "colorbar": {
             "outlinewidth": 0,
             "ticks": ""
            },
            "type": "choropleth"
           }
          ],
          "contour": [
           {
            "colorbar": {
             "outlinewidth": 0,
             "ticks": ""
            },
            "colorscale": [
             [
              0,
              "#0d0887"
             ],
             [
              0.1111111111111111,
              "#46039f"
             ],
             [
              0.2222222222222222,
              "#7201a8"
             ],
             [
              0.3333333333333333,
              "#9c179e"
             ],
             [
              0.4444444444444444,
              "#bd3786"
             ],
             [
              0.5555555555555556,
              "#d8576b"
             ],
             [
              0.6666666666666666,
              "#ed7953"
             ],
             [
              0.7777777777777778,
              "#fb9f3a"
             ],
             [
              0.8888888888888888,
              "#fdca26"
             ],
             [
              1,
              "#f0f921"
             ]
            ],
            "type": "contour"
           }
          ],
          "contourcarpet": [
           {
            "colorbar": {
             "outlinewidth": 0,
             "ticks": ""
            },
            "type": "contourcarpet"
           }
          ],
          "heatmap": [
           {
            "colorbar": {
             "outlinewidth": 0,
             "ticks": ""
            },
            "colorscale": [
             [
              0,
              "#0d0887"
             ],
             [
              0.1111111111111111,
              "#46039f"
             ],
             [
              0.2222222222222222,
              "#7201a8"
             ],
             [
              0.3333333333333333,
              "#9c179e"
             ],
             [
              0.4444444444444444,
              "#bd3786"
             ],
             [
              0.5555555555555556,
              "#d8576b"
             ],
             [
              0.6666666666666666,
              "#ed7953"
             ],
             [
              0.7777777777777778,
              "#fb9f3a"
             ],
             [
              0.8888888888888888,
              "#fdca26"
             ],
             [
              1,
              "#f0f921"
             ]
            ],
            "type": "heatmap"
           }
          ],
          "heatmapgl": [
           {
            "colorbar": {
             "outlinewidth": 0,
             "ticks": ""
            },
            "colorscale": [
             [
              0,
              "#0d0887"
             ],
             [
              0.1111111111111111,
              "#46039f"
             ],
             [
              0.2222222222222222,
              "#7201a8"
             ],
             [
              0.3333333333333333,
              "#9c179e"
             ],
             [
              0.4444444444444444,
              "#bd3786"
             ],
             [
              0.5555555555555556,
              "#d8576b"
             ],
             [
              0.6666666666666666,
              "#ed7953"
             ],
             [
              0.7777777777777778,
              "#fb9f3a"
             ],
             [
              0.8888888888888888,
              "#fdca26"
             ],
             [
              1,
              "#f0f921"
             ]
            ],
            "type": "heatmapgl"
           }
          ],
          "histogram": [
           {
            "marker": {
             "pattern": {
              "fillmode": "overlay",
              "size": 10,
              "solidity": 0.2
             }
            },
            "type": "histogram"
           }
          ],
          "histogram2d": [
           {
            "colorbar": {
             "outlinewidth": 0,
             "ticks": ""
            },
            "colorscale": [
             [
              0,
              "#0d0887"
             ],
             [
              0.1111111111111111,
              "#46039f"
             ],
             [
              0.2222222222222222,
              "#7201a8"
             ],
             [
              0.3333333333333333,
              "#9c179e"
             ],
             [
              0.4444444444444444,
              "#bd3786"
             ],
             [
              0.5555555555555556,
              "#d8576b"
             ],
             [
              0.6666666666666666,
              "#ed7953"
             ],
             [
              0.7777777777777778,
              "#fb9f3a"
             ],
             [
              0.8888888888888888,
              "#fdca26"
             ],
             [
              1,
              "#f0f921"
             ]
            ],
            "type": "histogram2d"
           }
          ],
          "histogram2dcontour": [
           {
            "colorbar": {
             "outlinewidth": 0,
             "ticks": ""
            },
            "colorscale": [
             [
              0,
              "#0d0887"
             ],
             [
              0.1111111111111111,
              "#46039f"
             ],
             [
              0.2222222222222222,
              "#7201a8"
             ],
             [
              0.3333333333333333,
              "#9c179e"
             ],
             [
              0.4444444444444444,
              "#bd3786"
             ],
             [
              0.5555555555555556,
              "#d8576b"
             ],
             [
              0.6666666666666666,
              "#ed7953"
             ],
             [
              0.7777777777777778,
              "#fb9f3a"
             ],
             [
              0.8888888888888888,
              "#fdca26"
             ],
             [
              1,
              "#f0f921"
             ]
            ],
            "type": "histogram2dcontour"
           }
          ],
          "mesh3d": [
           {
            "colorbar": {
             "outlinewidth": 0,
             "ticks": ""
            },
            "type": "mesh3d"
           }
          ],
          "parcoords": [
           {
            "line": {
             "colorbar": {
              "outlinewidth": 0,
              "ticks": ""
             }
            },
            "type": "parcoords"
           }
          ],
          "pie": [
           {
            "automargin": true,
            "type": "pie"
           }
          ],
          "scatter": [
           {
            "fillpattern": {
             "fillmode": "overlay",
             "size": 10,
             "solidity": 0.2
            },
            "type": "scatter"
           }
          ],
          "scatter3d": [
           {
            "line": {
             "colorbar": {
              "outlinewidth": 0,
              "ticks": ""
             }
            },
            "marker": {
             "colorbar": {
              "outlinewidth": 0,
              "ticks": ""
             }
            },
            "type": "scatter3d"
           }
          ],
          "scattercarpet": [
           {
            "marker": {
             "colorbar": {
              "outlinewidth": 0,
              "ticks": ""
             }
            },
            "type": "scattercarpet"
           }
          ],
          "scattergeo": [
           {
            "marker": {
             "colorbar": {
              "outlinewidth": 0,
              "ticks": ""
             }
            },
            "type": "scattergeo"
           }
          ],
          "scattergl": [
           {
            "marker": {
             "colorbar": {
              "outlinewidth": 0,
              "ticks": ""
             }
            },
            "type": "scattergl"
           }
          ],
          "scattermapbox": [
           {
            "marker": {
             "colorbar": {
              "outlinewidth": 0,
              "ticks": ""
             }
            },
            "type": "scattermapbox"
           }
          ],
          "scatterpolar": [
           {
            "marker": {
             "colorbar": {
              "outlinewidth": 0,
              "ticks": ""
             }
            },
            "type": "scatterpolar"
           }
          ],
          "scatterpolargl": [
           {
            "marker": {
             "colorbar": {
              "outlinewidth": 0,
              "ticks": ""
             }
            },
            "type": "scatterpolargl"
           }
          ],
          "scatterternary": [
           {
            "marker": {
             "colorbar": {
              "outlinewidth": 0,
              "ticks": ""
             }
            },
            "type": "scatterternary"
           }
          ],
          "surface": [
           {
            "colorbar": {
             "outlinewidth": 0,
             "ticks": ""
            },
            "colorscale": [
             [
              0,
              "#0d0887"
             ],
             [
              0.1111111111111111,
              "#46039f"
             ],
             [
              0.2222222222222222,
              "#7201a8"
             ],
             [
              0.3333333333333333,
              "#9c179e"
             ],
             [
              0.4444444444444444,
              "#bd3786"
             ],
             [
              0.5555555555555556,
              "#d8576b"
             ],
             [
              0.6666666666666666,
              "#ed7953"
             ],
             [
              0.7777777777777778,
              "#fb9f3a"
             ],
             [
              0.8888888888888888,
              "#fdca26"
             ],
             [
              1,
              "#f0f921"
             ]
            ],
            "type": "surface"
           }
          ],
          "table": [
           {
            "cells": {
             "fill": {
              "color": "#EBF0F8"
             },
             "line": {
              "color": "white"
             }
            },
            "header": {
             "fill": {
              "color": "#C8D4E3"
             },
             "line": {
              "color": "white"
             }
            },
            "type": "table"
           }
          ]
         },
         "layout": {
          "annotationdefaults": {
           "arrowcolor": "#2a3f5f",
           "arrowhead": 0,
           "arrowwidth": 1
          },
          "autotypenumbers": "strict",
          "coloraxis": {
           "colorbar": {
            "outlinewidth": 0,
            "ticks": ""
           }
          },
          "colorscale": {
           "diverging": [
            [
             0,
             "#8e0152"
            ],
            [
             0.1,
             "#c51b7d"
            ],
            [
             0.2,
             "#de77ae"
            ],
            [
             0.3,
             "#f1b6da"
            ],
            [
             0.4,
             "#fde0ef"
            ],
            [
             0.5,
             "#f7f7f7"
            ],
            [
             0.6,
             "#e6f5d0"
            ],
            [
             0.7,
             "#b8e186"
            ],
            [
             0.8,
             "#7fbc41"
            ],
            [
             0.9,
             "#4d9221"
            ],
            [
             1,
             "#276419"
            ]
           ],
           "sequential": [
            [
             0,
             "#0d0887"
            ],
            [
             0.1111111111111111,
             "#46039f"
            ],
            [
             0.2222222222222222,
             "#7201a8"
            ],
            [
             0.3333333333333333,
             "#9c179e"
            ],
            [
             0.4444444444444444,
             "#bd3786"
            ],
            [
             0.5555555555555556,
             "#d8576b"
            ],
            [
             0.6666666666666666,
             "#ed7953"
            ],
            [
             0.7777777777777778,
             "#fb9f3a"
            ],
            [
             0.8888888888888888,
             "#fdca26"
            ],
            [
             1,
             "#f0f921"
            ]
           ],
           "sequentialminus": [
            [
             0,
             "#0d0887"
            ],
            [
             0.1111111111111111,
             "#46039f"
            ],
            [
             0.2222222222222222,
             "#7201a8"
            ],
            [
             0.3333333333333333,
             "#9c179e"
            ],
            [
             0.4444444444444444,
             "#bd3786"
            ],
            [
             0.5555555555555556,
             "#d8576b"
            ],
            [
             0.6666666666666666,
             "#ed7953"
            ],
            [
             0.7777777777777778,
             "#fb9f3a"
            ],
            [
             0.8888888888888888,
             "#fdca26"
            ],
            [
             1,
             "#f0f921"
            ]
           ]
          },
          "colorway": [
           "#636efa",
           "#EF553B",
           "#00cc96",
           "#ab63fa",
           "#FFA15A",
           "#19d3f3",
           "#FF6692",
           "#B6E880",
           "#FF97FF",
           "#FECB52"
          ],
          "font": {
           "color": "#2a3f5f"
          },
          "geo": {
           "bgcolor": "white",
           "lakecolor": "white",
           "landcolor": "#E5ECF6",
           "showlakes": true,
           "showland": true,
           "subunitcolor": "white"
          },
          "hoverlabel": {
           "align": "left"
          },
          "hovermode": "closest",
          "mapbox": {
           "style": "light"
          },
          "paper_bgcolor": "white",
          "plot_bgcolor": "#E5ECF6",
          "polar": {
           "angularaxis": {
            "gridcolor": "white",
            "linecolor": "white",
            "ticks": ""
           },
           "bgcolor": "#E5ECF6",
           "radialaxis": {
            "gridcolor": "white",
            "linecolor": "white",
            "ticks": ""
           }
          },
          "scene": {
           "xaxis": {
            "backgroundcolor": "#E5ECF6",
            "gridcolor": "white",
            "gridwidth": 2,
            "linecolor": "white",
            "showbackground": true,
            "ticks": "",
            "zerolinecolor": "white"
           },
           "yaxis": {
            "backgroundcolor": "#E5ECF6",
            "gridcolor": "white",
            "gridwidth": 2,
            "linecolor": "white",
            "showbackground": true,
            "ticks": "",
            "zerolinecolor": "white"
           },
           "zaxis": {
            "backgroundcolor": "#E5ECF6",
            "gridcolor": "white",
            "gridwidth": 2,
            "linecolor": "white",
            "showbackground": true,
            "ticks": "",
            "zerolinecolor": "white"
           }
          },
          "shapedefaults": {
           "line": {
            "color": "#2a3f5f"
           }
          },
          "ternary": {
           "aaxis": {
            "gridcolor": "white",
            "linecolor": "white",
            "ticks": ""
           },
           "baxis": {
            "gridcolor": "white",
            "linecolor": "white",
            "ticks": ""
           },
           "bgcolor": "#E5ECF6",
           "caxis": {
            "gridcolor": "white",
            "linecolor": "white",
            "ticks": ""
           }
          },
          "title": {
           "x": 0.05
          },
          "xaxis": {
           "automargin": true,
           "gridcolor": "white",
           "linecolor": "white",
           "ticks": "",
           "title": {
            "standoff": 15
           },
           "zerolinecolor": "white",
           "zerolinewidth": 2
          },
          "yaxis": {
           "automargin": true,
           "gridcolor": "white",
           "linecolor": "white",
           "ticks": "",
           "title": {
            "standoff": 15
           },
           "zerolinecolor": "white",
           "zerolinewidth": 2
          }
         }
        },
        "title": {
         "text": "Top 10 Features by Importance"
        },
        "xaxis": {
         "title": {
          "text": "Importance"
         }
        },
        "yaxis": {
         "title": {
          "text": "Features"
         }
        }
       }
      }
     },
     "metadata": {},
     "output_type": "display_data"
    }
   ],
   "source": [
    "import plotly.graph_objs as go\n",
    "\n",
    "# Create a horizontal bar plot of feature importances\n",
    "trace = go.Bar(\n",
    "    y=feature_names[sorted_indices][:top_features][::-1],\n",
    "    x=importances[sorted_indices][:top_features][::-1],\n",
    "    orientation='h',\n",
    "    marker=dict(color=['#ff7f0e','#1f77b4','#2ca02c','#d62728','#9467bd','#8c564b','#e377c2','#7f7f7f','#bcbd22','#17becf']),\n",
    ")\n",
    "\n",
    "# Add labels to the plot\n",
    "layout = go.Layout(\n",
    "    xaxis=dict(title='Importance'),\n",
    "    yaxis=dict(title='Features'),\n",
    "    title='Top 10 Features by Importance',\n",
    "    margin=dict(l=150, r=50, b=100, t=100),\n",
    ")\n",
    "\n",
    "# Add a frame around each bar and the importance value to the middle of each bar\n",
    "annotations = []\n",
    "for i in range(top_features):\n",
    "    annotations.append(dict(xref='x', yref='y',\n",
    "                            x=importances[sorted_indices][:top_features][::-1][i], y=feature_names[sorted_indices][:top_features][::-1][i],\n",
    "                            text=str(round(importances[sorted_indices][:top_features][::-1][i], 3)),\n",
    "                            font=dict(family='Arial', size=12, color='white'),\n",
    "                            showarrow=False,\n",
    "                            align='center',\n",
    "                           ))\n",
    "    \n",
    "    trace.marker.line.width = 1\n",
    "    trace.marker.line.color = '#000000'\n",
    "    \n",
    "fig = go.Figure(data=[trace], layout=layout)\n",
    "fig.update_layout(annotations=annotations)\n",
    "fig.show()"
   ]
  },
  {
   "cell_type": "code",
   "execution_count": 9,
   "id": "680adf7c",
   "metadata": {},
   "outputs": [],
   "source": [
    "names = ['Destination_Port', 'Fwd_Packet_Length_Max', \"Avg_Fwd_Segment_Size\", \"Fwd_Packet_Length_Mean\", \"Subflow_Fwd_Bytes\",\n",
    "        \"Total_Length_of_Fwd_Packets\", \"Source_Port\", \"Init_Win_bytes_forward\"]\n",
    "'''\"Fwd_Packet_Length_Std\", \"Init_Win_bytes_backward\",\n",
    "        \"act_data_pkt_fwd\", \"Bwd_Packet_Length_Mean\", \"Avg_Bwd_Segment_Size\", \"Fwd_IAT_Total\", \"min_seg_size_forward\", \"Fwd_IAT_Max\",\n",
    "        \"Bwd_Packet_Length_Max\", \"Average_Packet_Size\", \"Bwd_Packet_Length_Std\", \"Packet_Length_Mean\"'''\n",
    "features = np.float32(df.loc[:, df.columns.isin(names)].copy().values) #reduce memory usage"
   ]
  },
  {
   "cell_type": "code",
   "execution_count": 14,
   "id": "14463f88",
   "metadata": {
    "scrolled": false
   },
   "outputs": [
    {
     "name": "stdout",
     "output_type": "stream",
     "text": [
      "Gaussian Naive Bayes:\n",
      "Accuracy: 0.979\n",
      "Precision: 0.965\n",
      "Recall: 1.000\n",
      "F1 score: 0.982\n",
      "Running time: 0.064 seconds\n",
      "\n",
      "K-Nearest Neighbors:\n",
      "Accuracy: 0.999\n",
      "Precision: 1.000\n",
      "Recall: 0.999\n",
      "F1 score: 0.999\n",
      "Running time: 25.006 seconds\n",
      "\n",
      "Decision Tree:\n",
      "Accuracy: 0.999\n",
      "Precision: 1.000\n",
      "Recall: 0.999\n",
      "F1 score: 1.000\n",
      "Running time: 0.267 seconds\n",
      "\n",
      "Random Forest:\n",
      "Accuracy: 0.999\n",
      "Precision: 1.000\n",
      "Recall: 0.999\n",
      "F1 score: 1.000\n",
      "Running time: 8.215 seconds\n",
      "\n"
     ]
    }
   ],
   "source": [
    "from sklearn.naive_bayes import GaussianNB\n",
    "from sklearn.neighbors import KNeighborsClassifier\n",
    "from sklearn.tree import DecisionTreeClassifier\n",
    "from sklearn.ensemble import RandomForestClassifier\n",
    "from sklearn.metrics import accuracy_score, precision_score, recall_score, f1_score\n",
    "from sklearn.model_selection import train_test_split\n",
    "\n",
    "import time\n",
    "\n",
    "# Use the top 10 features\n",
    "X = features\n",
    "y = df['Target'].values\n",
    "\n",
    "# Split the data into training and testing sets\n",
    "X_train, X_test, y_train, y_test = train_test_split(X, y, test_size=0.2, random_state=42)\n",
    "\n",
    "# Train and evaluate several classifiers\n",
    "models = {\n",
    "    \"Gaussian Naive Bayes\": GaussianNB(),\n",
    "    \"K-Nearest Neighbors\": KNeighborsClassifier(),\n",
    "    \"Decision Tree\": DecisionTreeClassifier(),\n",
    "    \"Random Forest\": RandomForestClassifier()\n",
    "}\n",
    "\n",
    "for name, model in models.items():\n",
    "    s_time = time.time()\n",
    "    model.fit(X_train, y_train)\n",
    "    y_pred = model.predict(X_test)\n",
    "    e_time = time.time()\n",
    "    \n",
    "    accuracy = accuracy_score(y_test, y_pred)\n",
    "    precision = precision_score(y_test, y_pred)\n",
    "    recall = recall_score(y_test, y_pred)\n",
    "    f1 = f1_score(y_test, y_pred)\n",
    "\n",
    "    print(f\"{name}:\")\n",
    "    print(f\"Accuracy: {accuracy:.3f}\")\n",
    "    print(f\"Precision: {precision:.3f}\")\n",
    "    print(f\"Recall: {recall:.3f}\")\n",
    "    print(f\"F1 score: {f1:.3f}\")\n",
    "    print(f\"Running time: {e_time - s_time:.3f} seconds\\n\")"
   ]
  },
  {
   "cell_type": "code",
   "execution_count": 29,
   "id": "e3de4de5",
   "metadata": {},
   "outputs": [],
   "source": [
    "import numpy as np\n",
    "import pandas as pd\n",
    "import plotly.graph_objs as go\n",
    "import plotly.subplots as sp\n",
    "from sklearn.naive_bayes import GaussianNB\n",
    "from sklearn.neighbors import KNeighborsClassifier\n",
    "from sklearn.tree import DecisionTreeClassifier\n",
    "from sklearn.ensemble import RandomForestClassifier\n",
    "from sklearn.model_selection import learning_curve\n",
    "import plotly.io as pio\n",
    "\n",
    "# Define the models to use\n",
    "models = {\n",
    "    \"Gaussian Naive Bayes\": GaussianNB(),\n",
    "    \"K-Nearest Neighbors\": KNeighborsClassifier(),\n",
    "    \"Decision Tree\": DecisionTreeClassifier(),\n",
    "    \"Random Forest\": RandomForestClassifier()\n",
    "}\n",
    "\n",
    "X = np.float32(df.loc[:, df.columns.isin(['Fwd_Packet_Length_Mean', 'Fwd_Packet_Length_Max', \"act_data_pkt_fwd\", \"Avg_Fwd_Segment_Size\", \"Fwd_IAT_Std\",\n",
    "        \"Subflow_Fwd_Bytes\", \"Total_Fwd_Packets\", \"Init_Win_bytes_forward\", \"Fwd_Header_Length1\", \"Destination_Port\"])].copy().values)\n",
    "y = df['Target'].values\n",
    "\n",
    "# Create a subplot with one row and as many columns as there are models\n",
    "fig = sp.make_subplots(rows=1, cols=len(models), subplot_titles=list(models.keys()), shared_yaxes=True)\n",
    "\n",
    "# Plot the learning curve for each model\n",
    "for index, (name, model) in enumerate(models.items()):\n",
    "    train_sizes, train_scores, test_scores = learning_curve(model, X, y, cv=5, n_jobs=-1,\n",
    "                                                            train_sizes=np.linspace(0.1, 1.0, 10))\n",
    "    train_mean = np.mean(train_scores, axis=1)\n",
    "    train_std = np.std(train_scores, axis=1)\n",
    "    test_mean = np.mean(test_scores, axis=1)\n",
    "    test_std = np.std(test_scores, axis=1)\n",
    "\n",
    "    # Add the training and test scores to the plot\n",
    "    fig.add_trace(go.Scatter(x=train_sizes, y=train_mean, mode='lines+markers', name=\"Training score\", line=dict(color=\"red\")),\n",
    "                  row=1, col=index + 1)\n",
    "    fig.add_trace(go.Scatter(x=train_sizes, y=test_mean, mode='lines+markers', name=\"Testing score\", line=dict(color=\"green\")),\n",
    "                  row=1, col=index + 1)\n",
    "\n",
    "# Update the layout of the plot\n",
    "fig.update_layout(title='Learning Curves for Different Models', xaxis_title=\"Training examples\", yaxis_title=\"Score\", legend=dict(orientation=\"h\", yanchor=\"bottom\", y=1.02, xanchor=\"right\", x=1))\n",
    "\n",
    "# Show the interactive plot\n",
    "\n",
    "pio.write_html(fig, file='learning_curves.html', auto_open=True)"
   ]
  },
  {
   "cell_type": "code",
   "execution_count": null,
   "id": "3960e323",
   "metadata": {},
   "outputs": [],
   "source": []
  }
 ],
 "metadata": {
  "kernelspec": {
   "display_name": "Python 3 (ipykernel)",
   "language": "python",
   "name": "python3"
  },
  "language_info": {
   "codemirror_mode": {
    "name": "ipython",
    "version": 3
   },
   "file_extension": ".py",
   "mimetype": "text/x-python",
   "name": "python",
   "nbconvert_exporter": "python",
   "pygments_lexer": "ipython3",
   "version": "3.11.3"
  }
 },
 "nbformat": 4,
 "nbformat_minor": 5
}
